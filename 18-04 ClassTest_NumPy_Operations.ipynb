{
 "cells": [
  {
   "cell_type": "markdown",
   "metadata": {},
   "source": [
    "<h2><span style=\"color:red\">🚨 Run the below cell to install and import required packages</span></h2>\n"
   ]
  },
  {
   "cell_type": "code",
   "execution_count": 1,
   "metadata": {},
   "outputs": [
    {
     "name": "stdout",
     "output_type": "stream",
     "text": [
      "Processing c:\\users\\dell\\onedrive\\desktop\\suretrust\\18-04 classtest_numpy_operations\\numpy_assignment_tests-0.1-py3-none-any.whl\n",
      "Installing collected packages: numpy-assignment-tests\n",
      "Successfully installed numpy-assignment-tests-0.1\n"
     ]
    }
   ],
   "source": [
    "!pip install numpy_assignment_tests-0.1-py3-none-any.whl --force-reinstall\n",
    "import numpy as np"
   ]
  },
  {
   "cell_type": "markdown",
   "metadata": {},
   "source": [
    "## 📝 **18th April NumPy Class Test - 45 Minute Duration**\n",
    "\n",
    "---\n",
    "\n",
    "### ✅ **Problem 1: Array Creation and Basic Operations**\n",
    "\n",
    "**Steps to solve:**\n",
    "\n",
    "1. Create a NumPy array of even numbers from 10 to 50 (inclusive).\n",
    "2. Multiply all elements of the array by 2 and store it in a new variable.\n",
    "3. Compute the sum of all elements in the doubled array.\n",
    "4. Reshape the doubled array into a 2D array with 5 rows and 4 columns.\n",
    "\n",
    "**Function Signature:**"
   ]
  },
  {
   "cell_type": "code",
   "execution_count": 24,
   "metadata": {},
   "outputs": [],
   "source": [
    "def problem1():\n",
    "    arr = np.arange(10, 51, 2)  \n",
    "\n",
    "    arr_doubled = arr * 2\n",
    "\n",
    "    total = np.sum(arr_doubled)\n",
    "\n",
    "    reshaped = arr_doubled[:20].reshape(5, 4)\n",
    "\n",
    "    return arr_doubled, total, reshaped"
   ]
  },
  {
   "cell_type": "code",
   "execution_count": 25,
   "metadata": {},
   "outputs": [
    {
     "name": "stdout",
     "output_type": "stream",
     "text": [
      "Original array: [10 12 14 16 18 20 22 24 26 28 30 32 34 36 38 40 42 44 46 48]\n",
      "Doubled array: [ 20  24  28  32  36  40  44  48  52  56  60  64  68  72  76  80  84  88\n",
      "  92  96 100]\n",
      "Sum of doubled array: 1260\n",
      "Reshaped array:\n",
      " [[20 24 28 32]\n",
      " [36 40 44 48]\n",
      " [52 56 60 64]\n",
      " [68 72 76 80]\n",
      " [84 88 92 96]]\n"
     ]
    }
   ],
   "source": [
    "doubled, total, reshaped = problem1()\n",
    "\n",
    "print(\"Original array:\", arr)\n",
    "print(\"Doubled array:\", doubled)\n",
    "print(\"Sum of doubled array:\", total)\n",
    "print(\"Reshaped array:\\n\", reshaped)\n"
   ]
  },
  {
   "cell_type": "code",
   "execution_count": 26,
   "metadata": {},
   "outputs": [
    {
     "name": "stdout",
     "output_type": "stream",
     "text": [
      "Shape of reshaped array: (5, 4)\n",
      "Type of total: <class 'numpy.int64'>\n"
     ]
    }
   ],
   "source": [
    "print(\"Shape of reshaped array:\", reshaped.shape)\n",
    "print(\"Type of total:\", type(total))\n"
   ]
  },
  {
   "cell_type": "code",
   "execution_count": 27,
   "metadata": {},
   "outputs": [
    {
     "name": "stdout",
     "output_type": "stream",
     "text": [
      "[✔] Problem 1 Passed — Score: 20/20\n"
     ]
    }
   ],
   "source": [
    "try:\n",
    "    from numpy_assignment_tests import test\n",
    "    test.test_problem1(problem1)\n",
    "except:\n",
    "    print(\"Try Again!\")"
   ]
  },
  {
   "cell_type": "markdown",
   "metadata": {},
   "source": [
    "\n",
    "---\n",
    "\n",
    "### ✅ **Problem 2: Indexing and Slicing**\n",
    "\n",
    "**Steps to solve:**\n",
    "\n",
    "1. Create a 5x5 NumPy array with numbers from 1 to 25 (row-wise).\n",
    "2. Extract the 2nd and 4th rows (index 1 and 3).\n",
    "3. Extract the 3rd column (index 2).\n",
    "4. Extract a subarray from rows 2 to 4 and columns 2 to 5.\n",
    "\n",
    "**Function Signature:**"
   ]
  },
  {
   "cell_type": "code",
   "execution_count": 29,
   "metadata": {},
   "outputs": [
    {
     "data": {
      "text/plain": [
       "(array([[ 6,  7,  8,  9, 10],\n",
       "        [16, 17, 18, 19, 20]]),\n",
       " array([ 3,  8, 13, 18, 23]),\n",
       " array([[13, 14, 15],\n",
       "        [18, 19, 20],\n",
       "        [23, 24, 25]]))"
      ]
     },
     "execution_count": 29,
     "metadata": {},
     "output_type": "execute_result"
    }
   ],
   "source": [
    "def problem2():\n",
    "    arr = np.arange(1, 26).reshape(5, 5)\n",
    "    rows = arr[[1, 3], :]          \n",
    "    col = arr[:, 2]               \n",
    "    subarray = arr[2:5, 2:5]     \n",
    "\n",
    "    return rows, col, subarray\n",
    "\n",
    "problem2()"
   ]
  },
  {
   "cell_type": "code",
   "execution_count": 30,
   "metadata": {},
   "outputs": [
    {
     "name": "stdout",
     "output_type": "stream",
     "text": [
      "[✔] Problem 2 Passed — Score: 20/20\n"
     ]
    }
   ],
   "source": [
    "try:\n",
    "    from numpy_assignment_tests import test\n",
    "    test.test_problem2(problem2)\n",
    "except:\n",
    "    print(\"Try Again!\")"
   ]
  },
  {
   "cell_type": "markdown",
   "metadata": {},
   "source": [
    "---\n",
    "\n",
    "### ✅ **Problem 3: Boolean Masking and Conditional Operations**\n",
    "\n",
    "**Steps to solve:**\n",
    "\n",
    "1. Create a NumPy array of integers from 1 to 20.\n",
    "2. Use boolean masking to extract all numbers divisible by 3.\n",
    "3. Replace all numbers greater than 15 in the original array with -1.\n",
    "\n",
    "**Function Signature:**"
   ]
  },
  {
   "cell_type": "code",
   "execution_count": 31,
   "metadata": {},
   "outputs": [],
   "source": [
    "import numpy as np\n",
    "\n",
    "def problem3():\n",
    "    # 1. Create a NumPy array of integers from 1 to 20\n",
    "    arr = np.arange(1, 21)\n",
    "\n",
    "    # 2. Use boolean masking to extract all numbers divisible by 3\n",
    "    divisible_by_3 = arr[arr % 3 == 0]\n",
    "\n",
    "    # 3. Replace all numbers greater than 15 in the original array with -1\n",
    "    replaced_array = arr.copy()\n",
    "    replaced_array[replaced_array > 15] = -1\n",
    "\n",
    "    return divisible_by_3, replaced_array\n"
   ]
  },
  {
   "cell_type": "code",
   "execution_count": 32,
   "metadata": {},
   "outputs": [
    {
     "name": "stdout",
     "output_type": "stream",
     "text": [
      "Divisible by 3: [ 3  6  9 12 15 18]\n",
      "Replaced array: [ 1  2  3  4  5  6  7  8  9 10 11 12 13 14 15 -1 -1 -1 -1 -1]\n"
     ]
    }
   ],
   "source": [
    "div3, replaced = problem3()\n",
    "print(\"Divisible by 3:\", div3)\n",
    "print(\"Replaced array:\", replaced)\n"
   ]
  },
  {
   "cell_type": "code",
   "execution_count": 33,
   "metadata": {},
   "outputs": [
    {
     "name": "stdout",
     "output_type": "stream",
     "text": [
      "[✔] Problem 3 Passed — Score: 20/20\n"
     ]
    }
   ],
   "source": [
    "try:\n",
    "    from numpy_assignment_tests import test\n",
    "    test.test_problem3(problem3)\n",
    "except:\n",
    "    print(\"Try Again!\")"
   ]
  },
  {
   "cell_type": "markdown",
   "metadata": {},
   "source": [
    "---\n",
    "\n",
    "### ✅ **Problem 4: Aggregate Functions and Axis Operations**\n",
    "\n",
    "**Steps to solve:**\n",
    "\n",
    "1. Create a 4x4 NumPy array with values from 1 to 16.\n",
    "2. Calculate the mean of each row.\n",
    "3. Calculate the sum of each column.\n",
    "\n",
    "**Function Signature:**"
   ]
  },
  {
   "cell_type": "code",
   "execution_count": 34,
   "metadata": {},
   "outputs": [],
   "source": [
    "import numpy as np\n",
    "\n",
    "def problem4():\n",
    "    # 1. Create a 4x4 NumPy array with values from 1 to 16\n",
    "    arr = np.arange(1, 17).reshape(4, 4)\n",
    "\n",
    "    # 2. Calculate the mean of each row\n",
    "    row_means = np.mean(arr, axis=1)\n",
    "\n",
    "    # 3. Calculate the sum of each column\n",
    "    col_sums = np.sum(arr, axis=0)\n",
    "\n",
    "    return row_means, col_sums\n"
   ]
  },
  {
   "cell_type": "code",
   "execution_count": 35,
   "metadata": {},
   "outputs": [
    {
     "name": "stdout",
     "output_type": "stream",
     "text": [
      "Row Means: [ 2.5  6.5 10.5 14.5]\n",
      "Column Sums: [28 32 36 40]\n"
     ]
    }
   ],
   "source": [
    "row_means, col_sums = problem4()\n",
    "print(\"Row Means:\", row_means)\n",
    "print(\"Column Sums:\", col_sums)\n"
   ]
  },
  {
   "cell_type": "code",
   "execution_count": 36,
   "metadata": {},
   "outputs": [
    {
     "name": "stdout",
     "output_type": "stream",
     "text": [
      "[✔] Problem 4 Passed — Score: 20/20\n"
     ]
    }
   ],
   "source": [
    "try:\n",
    "    from numpy_assignment_tests import test\n",
    "    test.test_problem4(problem4)\n",
    "except:\n",
    "    print(\"Try Again!\")"
   ]
  },
  {
   "cell_type": "markdown",
   "metadata": {},
   "source": [
    "---\n",
    "\n",
    "### ✅ **Problem 5: Stacking and Splitting Arrays**\n",
    "\n",
    "**Steps to solve:**\n",
    "\n",
    "1. Create two NumPy arrays: `a = [1, 2, 3]`, `b = [4, 5, 6]`.\n",
    "2. Stack them vertically and horizontally.\n",
    "3. Split the horizontal stacked array into two equal parts.\n",
    "\n",
    "**Function Signature:**"
   ]
  },
  {
   "cell_type": "code",
   "execution_count": 37,
   "metadata": {},
   "outputs": [],
   "source": [
    "import numpy as np\n",
    "\n",
    "def problem5():\n",
    "    # 1. Create two NumPy arrays\n",
    "    a = np.array([1, 2, 3])\n",
    "    b = np.array([4, 5, 6])\n",
    "\n",
    "    # 2. Stack them vertically and horizontally\n",
    "    vstacked = np.vstack((a, b))\n",
    "    hstacked = np.hstack((a, b))\n",
    "\n",
    "    # 3. Split the horizontal stacked array into two equal parts\n",
    "    split_arrays = np.split(hstacked, 2)\n",
    "\n",
    "    return vstacked, hstacked, split_arrays\n"
   ]
  },
  {
   "cell_type": "code",
   "execution_count": 38,
   "metadata": {},
   "outputs": [
    {
     "name": "stdout",
     "output_type": "stream",
     "text": [
      "Vertical Stack:\n",
      " [[1 2 3]\n",
      " [4 5 6]]\n",
      "Horizontal Stack: [1 2 3 4 5 6]\n",
      "Split Arrays: [array([1, 2, 3]), array([4, 5, 6])]\n"
     ]
    }
   ],
   "source": [
    "v, h, splits = problem5()\n",
    "print(\"Vertical Stack:\\n\", v)\n",
    "print(\"Horizontal Stack:\", h)\n",
    "print(\"Split Arrays:\", splits)\n"
   ]
  },
  {
   "cell_type": "code",
   "execution_count": 39,
   "metadata": {},
   "outputs": [
    {
     "name": "stdout",
     "output_type": "stream",
     "text": [
      "[✔] Problem 5 Passed — Score: 20/20\n"
     ]
    }
   ],
   "source": [
    "try:\n",
    "    from numpy_assignment_tests import test\n",
    "    test.test_problem5(problem5)\n",
    "except:\n",
    "    print(\"Try Again!\")"
   ]
  },
  {
   "cell_type": "markdown",
   "metadata": {},
   "source": [
    "<h3><span style=\"color:red\">🚨 Run the below cell to execute all test cases and get the final score</span></h3>\n"
   ]
  },
  {
   "cell_type": "code",
   "execution_count": 40,
   "metadata": {},
   "outputs": [
    {
     "name": "stdout",
     "output_type": "stream",
     "text": [
      "=== NumPy Assignment Evaluation ===\n",
      "[✔] Problem 1 Passed — Score: 20/20\n",
      "[✔] Problem 2 Passed — Score: 20/20\n",
      "[✔] Problem 3 Passed — Score: 20/20\n",
      "[✔] Problem 4 Passed — Score: 20/20\n",
      "[✔] Problem 5 Passed — Score: 20/20\n",
      "\n",
      "🏁 Final Score: 100/100\n"
     ]
    }
   ],
   "source": [
    "## DO NOT MODIFY ##\n",
    "try:\n",
    "    from numpy_assignment_tests import test\n",
    "    student_name = input(\"Enter your full name: \").strip()\n",
    "    test.run_all_tests({\n",
    "        \"problem1\": problem1,\n",
    "        \"problem2\": problem2,\n",
    "        \"problem3\": problem3,\n",
    "        \"problem4\": problem4,\n",
    "        \"problem5\": problem5\n",
    "    }, student_name)\n",
    "except:\n",
    "    print(\"Check again and complete all the questions completely!!\")"
   ]
  }
 ],
 "metadata": {
  "colab": {
   "provenance": []
  },
  "kernelspec": {
   "display_name": "Python 3",
   "language": "python",
   "name": "python3"
  },
  "language_info": {
   "codemirror_mode": {
    "name": "ipython",
    "version": 3
   },
   "file_extension": ".py",
   "mimetype": "text/x-python",
   "name": "python",
   "nbconvert_exporter": "python",
   "pygments_lexer": "ipython3",
   "version": "3.13.1"
  }
 },
 "nbformat": 4,
 "nbformat_minor": 1
}
