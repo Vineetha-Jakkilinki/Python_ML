{
 "cells": [
  {
   "cell_type": "markdown",
   "id": "15615d5b",
   "metadata": {},
   "source": [
    "Q1. Write a Python program that takes a sentence as input and returns a dictionary where the \n",
    "keys are vowels and the values are the number of times each vowel appears in the sentence. \n",
    "Ignore case.<br>\n",
    "Example Input: \"Education is important\"<br>\n",
    "Expected Output: {'a': 2, 'e': 1, 'i': 2, 'o': 1, 'u': 1}<br>"
   ]
  },
  {
   "cell_type": "code",
   "execution_count": 1,
   "id": "1be4d8dc",
   "metadata": {},
   "outputs": [
    {
     "name": "stdout",
     "output_type": "stream",
     "text": [
      "{'a': 2, 'e': 2, 'i': 4, 'o': 0, 'u': 0}\n"
     ]
    }
   ],
   "source": [
    "def func(s):\n",
    "    varA = varE = varI = varO = varU = 0\n",
    "    for ch in s:\n",
    "        if ch == 'a':\n",
    "            varA += 1\n",
    "        elif ch == 'e':\n",
    "            varE += 1\n",
    "        elif ch == 'i':\n",
    "            varI += 1\n",
    "        elif ch == 'o':\n",
    "            varO += 1\n",
    "        elif ch == 'u':\n",
    "            varU += 1\n",
    "    print({'a': varA, 'e': varE, 'i': varI, 'o': varO, 'u': varU})\n",
    "\n",
    "strng = input(\"Enter a String: \")\n",
    "func(strng)\n"
   ]
  },
  {
   "cell_type": "markdown",
   "id": "b82d3229",
   "metadata": {},
   "source": [
    "Q2. Write a function that checks if a given number is a palindrome. Then write another function \n",
    "that prints all palindrome numbers between two given numbers (inclusive).<br>\n",
    "Example Input: start = 100, end = 150<br>\n",
    "Expected Output: 101 111 121 131 141<br>"
   ]
  },
  {
   "cell_type": "code",
   "execution_count": 3,
   "id": "94ed898b",
   "metadata": {},
   "outputs": [
    {
     "name": "stdout",
     "output_type": "stream",
     "text": [
      "The number is Palindrome.\n"
     ]
    }
   ],
   "source": [
    "def is_Palindrome(n):\n",
    "    strng=str(n)\n",
    "    rev_num=strng[::-1]\n",
    "    if(strng==rev_num):\n",
    "        print(\"The number is Palindrome.\")\n",
    "    else:\n",
    "        print(\"The number is not a palindrome\")\n",
    "\n",
    "def AllPalindromes(n,m):\n",
    "    for i in range(n,m+1):\n",
    "        strng=str(i)\n",
    "        rev_num=strng[::-1]\n",
    "        if(strng==rev_num):\n",
    "            print(i)\n",
    "        \n",
    "n=int(input(\"Enter number1:\"))\n",
    "m=int(input(\"Enter number2:\"))\n",
    "is_Palindrome(n)"
   ]
  },
  {
   "cell_type": "code",
   "execution_count": 4,
   "id": "e6e5e397",
   "metadata": {},
   "outputs": [
    {
     "name": "stdout",
     "output_type": "stream",
     "text": [
      "121\n",
      "131\n",
      "141\n",
      "151\n",
      "161\n",
      "171\n",
      "181\n",
      "191\n",
      "202\n",
      "212\n",
      "222\n",
      "232\n"
     ]
    }
   ],
   "source": [
    "AllPalindromes(n,m)"
   ]
  },
  {
   "cell_type": "markdown",
   "id": "a93c13ed",
   "metadata": {},
   "source": [
    "Q3. Create a class Employee with attributes emp_id, name, and salary. Write methods to:<br>\n",
    "• Display employee details<br>\n",
    "• Write the details to a file named employee_data.txt in CSV format<br>\n",
    "• Read from the file and display the content<br>"
   ]
  },
  {
   "cell_type": "code",
   "execution_count": 5,
   "id": "9bdde760",
   "metadata": {},
   "outputs": [
    {
     "name": "stdout",
     "output_type": "stream",
     "text": [
      "Emp_ID: 1\n",
      "Name: Vineetha\n",
      "Salary: 50000\n",
      "Emp_ID: 2\n",
      "Name: Roshini\n",
      "Salary: 60000\n",
      "\n",
      "--- Employee Data in File ---\n",
      "1,Vineetha,50000\n",
      "2,Roshini,60000\n"
     ]
    }
   ],
   "source": [
    "class Employee:\n",
    "    def __init__(self, emp_id, name, salary):\n",
    "        self.emp_id = emp_id\n",
    "        self.name = name\n",
    "        self.salary = salary\n",
    "\n",
    "    # Method to display employee details\n",
    "    def display(self):\n",
    "        print(\"Emp_ID:\", self.emp_id)\n",
    "        print(\"Name:\", self.name)\n",
    "        print(\"Salary:\", self.salary)\n",
    "\n",
    "    # Method to write employee details to file\n",
    "    def write_to_file(self):\n",
    "        with open(\"employee_data.txt\", \"a\") as f:\n",
    "            f.write(f\"{self.emp_id},{self.name},{self.salary}\\n\")\n",
    "\n",
    "    # Method to read and display all data from file\n",
    "    def read_file():\n",
    "        with open(\"employee_data.txt\", \"r\") as f:\n",
    "            print(\"\\n--- Employee Data in File ---\")\n",
    "            for line in f:\n",
    "                print(line.strip())\n",
    "\n",
    "# Create employee objects\n",
    "emp1 = Employee(1, \"Vineetha\", 50000)\n",
    "emp2 = Employee(2, \"Roshini\", 60000)\n",
    "\n",
    "# Display employee info\n",
    "emp1.display()\n",
    "emp2.display()\n",
    "\n",
    "# Write to file\n",
    "emp1.write_to_file()\n",
    "emp2.write_to_file()\n",
    "\n",
    "# Read from file\n",
    "Employee.read_file()\n",
    "    "
   ]
  },
  {
   "cell_type": "markdown",
   "id": "5f4663ad",
   "metadata": {},
   "source": [
    "Q4. Create a class LogAnalyzer that reads a file called log.txt, counts the number of lines that contain \n",
    "the word \"error\" (case-insensitive), and prints the count. Include proper function(s) and file \n",
    "handling. Assume log.txt contains multiple lines.\n",
    "Log.txt:<br>\n",
    "INFO: System initialized successfully<br>\n",
    "ERROR: Failed to connect to the database<br>\n",
    "WARNING: Deprecated function used<Br>\n",
    "info: User logged in<br>\n",
    "error: Timeout while connecting to server<br>\n",
    "DEBUG: Memory usage is within limits<br>\n",
    "ERROR: Null pointer exception occurred<br>\n",
    "Warning: Battery level low<br>\n",
    "fatal: System crash detected<br>\n",
    "Error: File not found<br>"
   ]
  },
  {
   "cell_type": "code",
   "execution_count": null,
   "id": "4c92477a",
   "metadata": {},
   "outputs": [],
   "source": [
    "class LogAnalyzer:\n",
    "    def __init__(self):\n",
    "        self.filename = \"C:\\\\Users\\\\DELL\\\\OneDrive\\\\Desktop\\\\Log.txt\"\n",
    " \n",
    "    def count_errors(self):\n",
    "        count = 0\n",
    "        try:\n",
    "            with open(self.filename, \"r\") as file:\n",
    "                for line in file:\n",
    "                    if \"error\" in line.lower():\n",
    "                        count += 1\n",
    "            print(\"Number of lines with 'error':\", count)\n",
    "        except FileNotFoundError:\n",
    "            print(\"File not found:\", self.filename)\n",
    "\n",
    "\n"
   ]
  },
  {
   "cell_type": "code",
   "execution_count": 18,
   "id": "9fbba7ba",
   "metadata": {},
   "outputs": [
    {
     "name": "stdout",
     "output_type": "stream",
     "text": [
      "Number of lines with 'error': 4\n"
     ]
    }
   ],
   "source": [
    "analyzer = LogAnalyzer()\n",
    "analyzer.count_errors()"
   ]
  }
 ],
 "metadata": {
  "kernelspec": {
   "display_name": "Python 3",
   "language": "python",
   "name": "python3"
  },
  "language_info": {
   "codemirror_mode": {
    "name": "ipython",
    "version": 3
   },
   "file_extension": ".py",
   "mimetype": "text/x-python",
   "name": "python",
   "nbconvert_exporter": "python",
   "pygments_lexer": "ipython3",
   "version": "3.13.1"
  }
 },
 "nbformat": 4,
 "nbformat_minor": 5
}
