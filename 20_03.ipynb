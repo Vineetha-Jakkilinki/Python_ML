{
 "cells": [
  {
   "cell_type": "code",
   "execution_count": 2,
   "metadata": {},
   "outputs": [
    {
     "name": "stdout",
     "output_type": "stream",
     "text": [
      "Words starting with a capital letter: ['My', 'Name', 'Chaitanya', 'I', 'Live', 'India']\n"
     ]
    }
   ],
   "source": [
    "import re\n",
    "\n",
    "text = \"My Name is Chaitanya and I Live in India.\"\n",
    "capital_words = re.findall(r'\\b[A-Z][a-z]*\\b', text)\n",
    "print(\"Words starting with a capital letter:\", capital_words)\n"
   ]
  },
  {
   "cell_type": "code",
   "execution_count": 3,
   "metadata": {},
   "outputs": [
    {
     "data": {
      "text/plain": [
       "['My', 'Name', 'Chaitanya', 'I', 'Live', 'India']"
      ]
     },
     "execution_count": 3,
     "metadata": {},
     "output_type": "execute_result"
    }
   ],
   "source": [
    "pattern=r\"\\b[A-Z][a-z]*\\b\"\n",
    "re.findall(pattern,text)"
   ]
  },
  {
   "cell_type": "code",
   "execution_count": null,
   "metadata": {},
   "outputs": [
    {
     "name": "stdout",
     "output_type": "stream",
     "text": [
      "Without_space Text: This is a sentence with extra spaces.\n"
     ]
    }
   ],
   "source": [
    "import re\n",
    "\n",
    "text = \"This    is  a   sentence    with   extra  spaces.\"\n",
    "without_space = re.sub(r'\\s+', ' ', text)\n",
    "print(\"Without_space Text:\", without_space)\n"
   ]
  },
  {
   "cell_type": "code",
   "execution_count": 1,
   "metadata": {},
   "outputs": [
    {
     "name": "stdout",
     "output_type": "stream",
     "text": [
      "Hashtags: ['#Python', '#Coding', '#Regex']\n"
     ]
    }
   ],
   "source": [
    "import re\n",
    "\n",
    "tweet = \"Learning #Python is fun! #Coding #Regex\"\n",
    "hashtags = re.findall(r'#\\w+', tweet)\n",
    "\n",
    "print(\"Hashtags:\", hashtags)\n"
   ]
  },
  {
   "cell_type": "code",
   "execution_count": 5,
   "metadata": {},
   "outputs": [
    {
     "name": "stdout",
     "output_type": "stream",
     "text": [
      "File Extensions: ['.pdf', '.jpg', '.txt', '.py']\n"
     ]
    }
   ],
   "source": [
    "import re\n",
    "\n",
    "files = [\"report.pdf\", \"image.jpg\", \"document.txt\", \"script.py\"]\n",
    "extensions = [re.search(r'\\.\\w+$', file).group() for file in files]\n",
    "print(\"File Extensions:\", extensions)\n"
   ]
  }
 ],
 "metadata": {
  "kernelspec": {
   "display_name": "Python 3",
   "language": "python",
   "name": "python3"
  },
  "language_info": {
   "codemirror_mode": {
    "name": "ipython",
    "version": 3
   },
   "file_extension": ".py",
   "mimetype": "text/x-python",
   "name": "python",
   "nbconvert_exporter": "python",
   "pygments_lexer": "ipython3",
   "version": "3.13.1"
  }
 },
 "nbformat": 4,
 "nbformat_minor": 2
}
