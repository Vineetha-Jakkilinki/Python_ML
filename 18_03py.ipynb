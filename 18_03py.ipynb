{
 "cells": [
  {
   "cell_type": "code",
   "execution_count": 1,
   "metadata": {},
   "outputs": [
    {
     "name": "stdout",
     "output_type": "stream",
     "text": [
      "Alice from USA is 30 years old.\n"
     ]
    }
   ],
   "source": [
    "from datetime import datetime\n",
    "\n",
    "class Person:\n",
    "    def __init__(self, name, country, date_of_birth):\n",
    "        self.name = name\n",
    "        self.country = country\n",
    "        self.date_of_birth = datetime.strptime(date_of_birth, \"%Y-%m-%d\")\n",
    "\n",
    "    def display_age(self):\n",
    "        today = datetime.today()\n",
    "        age = today.year - self.date_of_birth.year\n",
    "        if (today.month, today.day) < (self.date_of_birth.month, self.date_of_birth.day):\n",
    "            age -= 1\n",
    "        print(f\"{self.name} from {self.country} is {age} years old.\")\n",
    "\n",
    "person1 = Person(\"Alice\", \"USA\", \"1995-03-18\")\n",
    "person1.display_age()\n"
   ]
  },
  {
   "cell_type": "code",
   "execution_count": null,
   "metadata": {},
   "outputs": [
    {
     "name": "stdout",
     "output_type": "stream",
     "text": [
      "Sum: 5\n",
      "Multiplication: 6\n",
      "Division: 0.6666666666666666\n"
     ]
    }
   ],
   "source": [
    "class Calculator:\n",
    "    def __init__(self, a, b):\n",
    "        self.a = a\n",
    "        self.b = b\n",
    "\n",
    "    def sum(self):\n",
    "        print(f\"Sum: {self.a + self.b}\")\n",
    "\n",
    "    def mul(self):\n",
    "        print(f\"Multiplication: {self.a * self.b}\")\n",
    "\n",
    "    def div(self):\n",
    "        if self.b == 0:\n",
    "            print(\"Cannot divide by zero!\")\n",
    "        else:\n",
    "            print(f\"Division: {self.a / self.b}\")\n",
    "\n",
    "num1 = int(input(\"Enter the first number: \"))\n",
    "num2 = int(input(\"Enter the second number: \"))\n",
    "obj = Calculator(num1, num2)\n",
    "obj.sum()\n",
    "obj.mul()\n",
    "obj.div()\n"
   ]
  },
  {
   "cell_type": "code",
   "execution_count": null,
   "metadata": {},
   "outputs": [],
   "source": [
    "class Calculator:\n",
    "    def __init__(self, *args):\n",
    "        self.numbers = args\n",
    "\n",
    "    def sum(self):\n",
    "        print(f\"Sum: {sum(self.numbers)}\")\n",
    "\n",
    "    def mul(self):\n",
    "        result = 1\n",
    "        for num in self.numbers:\n",
    "            result *= num\n",
    "        print(f\"Multiplication: {result}\")\n",
    "\n",
    "    def div(self):\n",
    "        if len(self.numbers) < 2:\n",
    "            print(\"Division requires at least two numbers!\")\n",
    "            return\n",
    "        \n",
    "        result = self.numbers[0]\n",
    "        for num in self.numbers[1:]:\n",
    "            if num == 0:\n",
    "                print(\"Cannot divide by zero!\")\n",
    "                return\n",
    "            result /= num\n",
    "        print(f\"Division: {result}\")\n",
    "nums = list(map(float, input(\"Enter numbers separated by space: \").split()))\n",
    "obj = Calculator(*nums)\n",
    "obj.sum()\n",
    "obj.mul()\n",
    "obj.div()\n"
   ]
  }
 ],
 "metadata": {
  "kernelspec": {
   "display_name": "Python 3",
   "language": "python",
   "name": "python3"
  },
  "language_info": {
   "codemirror_mode": {
    "name": "ipython",
    "version": 3
   },
   "file_extension": ".py",
   "mimetype": "text/x-python",
   "name": "python",
   "nbconvert_exporter": "python",
   "pygments_lexer": "ipython3",
   "version": "3.13.1"
  }
 },
 "nbformat": 4,
 "nbformat_minor": 2
}
