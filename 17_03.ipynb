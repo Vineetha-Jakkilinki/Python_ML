{
 "cells": [
  {
   "cell_type": "markdown",
   "metadata": {
    "id": "77zLnpaNvNSp"
   },
   "source": [
    "## <u> Problem 1</u>\n",
    "\n",
    "### Create a class <code>Cylinder</code> which takes two attributes <code>radius</code> and <code>height</code>.\n",
    "\n",
    "### Create the following methods in this class:\n",
    "\n",
    "* ### method <code>volume()</code> which calculates the volume of the cyinder which is defined as $V  = \\pi r^2 h$\n",
    "\n",
    "* ### method <code>surface_area()</code> which calculates the area of the cyinder which is defined as $S  = 2\\pi r h$. Assume this is an open cylinder\n"
   ]
  },
  {
   "cell_type": "code",
   "execution_count": null,
   "metadata": {
    "id": "-cWkCZ5OzX0G"
   },
   "outputs": [
    {
     "name": "stdout",
     "output_type": "stream",
     "text": [
      "volume of cylinder is 37.69911184307752\n",
      "Surface area of cylinder 37.69911184307752\n"
     ]
    }
   ],
   "source": [
    "# Write your code below. Take pi as 3.14\n",
    "import math\n",
    "class Cylinder:\n",
    "      def __init__(self, radius,height):\n",
    "        self.radius=radius\n",
    "        self.height=height\n",
    "      def volume(self):\n",
    "          v=math.pi*self.radius*self.radius*self.height\n",
    "          print(f\"volume of cylinder is {v}\")\n",
    "      def surface_area(self):\n",
    "          sa=2*math.pi*self.radius*self.height\n",
    "          print(f\"Surface area of cylinder {sa}\")\n",
    "\n",
    "obj1=Cylinder(2,3)\n",
    "obj1.volume()\n",
    "obj1.surface_area()\n",
    "\n",
    "\n",
    "\n",
    "\n",
    "\n",
    "\n",
    "\n",
    "\n",
    "\n",
    "\n",
    "\n",
    "\n",
    "\n",
    "\n",
    "\n"
   ]
  },
  {
   "cell_type": "code",
   "execution_count": 2,
   "metadata": {
    "id": "tgS3mhN-18b_"
   },
   "outputs": [
    {
     "name": "stdout",
     "output_type": "stream",
     "text": [
      "volume of cylinder is 251.32741228718345\n",
      "Surface area of cylinder 125.66370614359172\n"
     ]
    }
   ],
   "source": [
    "# Check for sample inputs\n",
    "\n",
    "obj2=Cylinder(4,5)\n",
    "obj2.volume()\n",
    "obj2.surface_area()\n",
    "\n",
    "\n",
    "\n"
   ]
  },
  {
   "cell_type": "markdown",
   "metadata": {
    "id": "KjPWYK0Rs8By"
   },
   "source": [
    "## <u>Problem 2</u>\n",
    "\n",
    "### You started your own money wallet where your customers can create their accounts and they can either deposit or withdraw money from this wallet.\n",
    "\n",
    "### Write a Python class <code>BankAccount</code> which takes the balance as an attribute. You can initialize the balance with 0 because any new account will have 0 rupees in their wallet. Next write two methods for your class :\n",
    "\n",
    "* #### <code>withdraw()</code> method which takes the amount to be withdrawn as an argument and returns the balance after the withdrawal\n",
    "\n",
    "* #### <code>deposit()</code> method which takes the amount to be deposited as an argument and returns the balance after the deposit.\n",
    "\n",
    "### Keep in mind that if the balance to be withdrawn exceeds the current balance, it should display a message that \"Not enough balance in your account\"\n"
   ]
  },
  {
   "cell_type": "code",
   "execution_count": null,
   "metadata": {
    "id": "RxVZTrenzfHC"
   },
   "outputs": [
    {
     "name": "stdout",
     "output_type": "stream",
     "text": [
      "After deposit, available balance is 1200\n",
      "After withdrawal, available balance is 700\n",
      "After withdrawal, available balance is 0\n"
     ]
    }
   ],
   "source": [
    "class BankAccount:\n",
    "    def __init__(self, balance=0):\n",
    "        self.balance = balance \n",
    "         \n",
    "    def deposit(self, amount):\n",
    "        self.balance += amount\n",
    "        print(f\"After deposit, available balance is {self.balance}\")\n",
    "\n",
    "    def withdraw(self, amount):\n",
    "        if amount > self.balance:\n",
    "            print(\"Insufficient balance. Cannot withdraw!!\")\n",
    "        else:\n",
    "            self.balance -= amount\n",
    "            print(f\"After withdrawal, available balance is {self.balance}\")\n",
    "\n",
    "obj1 = BankAccount()\n",
    "obj1.deposit(1200)  \n",
    "obj1.withdraw(500) \n",
    "obj1.withdraw(700) \n"
   ]
  },
  {
   "cell_type": "code",
   "execution_count": 13,
   "metadata": {
    "id": "N1Yhpkiws8B3"
   },
   "outputs": [
    {
     "name": "stdout",
     "output_type": "stream",
     "text": [
      "After deposit, available balance is 1200\n",
      "After withdrawal, available balance is 700\n",
      "After deposit, available balance is 5200\n",
      "After withdrawal, available balance is 5000\n"
     ]
    }
   ],
   "source": [
    "# Create two instances of this class for two customers\n",
    "cus1 = BankAccount()\n",
    "cus2=  BankAccount() \n",
    "cus1.deposit(1200)  \n",
    "cus1.withdraw(500)\n",
    "cus2.deposit(5200)  \n",
    "cus2.withdraw(200)\n"
   ]
  },
  {
   "cell_type": "markdown",
   "metadata": {
    "id": "mSTxPcO3fWeX"
   },
   "source": [
    "### Next add some amount and withdraw some another amount for both the customers."
   ]
  },
  {
   "cell_type": "markdown",
   "metadata": {
    "id": "5qd8g8UUs8CM"
   },
   "source": [
    "## <u>Problem 3 </u>\n",
    "\n",
    "### Create a class <code>Time </code> which takes two inputs hours and minutes to instantiate.\n",
    "*  #### Construct a method <code>DisplayTime()</code> which displays the time in AM/PM formats. For example if the input is 14 hours and 45 mins, then this method will print \"The time is 2:45 PM\". If the inputted hours exceeds 23 then print the message \"The input hours should be less than 24\" and if the inputted minutes exceeds 59 then print the message \"The input minutes should be less than 60.\" Also if the input is 12 hours 30 minutes, then the displayed time would be 12:30 PM\n",
    "* #### Construct a method <code>DisplayRatio()</code> which should display the ratio of minutes to hours. For example, (8 hours and  16 mins) should display 2. Use <code>try</code>, <code>except</code> block to account for ZeroDivisionError."
   ]
  },
  {
   "cell_type": "code",
   "execution_count": null,
   "metadata": {
    "id": "FBJy9Sq_s8CN"
   },
   "outputs": [
    {
     "name": "stdout",
     "output_type": "stream",
     "text": [
      "uTime and Ratio Outputs:\n",
      "Input: (23, 45)\n",
      "Time: 11:45 PM\n",
      "Ratio: 45:23\n",
      "\n",
      "Input: (34, 50)\n",
      "Time: Invalid hours! Should be less than 24.\n",
      "Ratio: 25:17\n",
      "\n",
      "Input: (12, 34)\n",
      "Time: 12:34 PM\n",
      "Ratio: 17:6\n",
      "\n",
      "Input: (14, 67)\n",
      "Time: Invalid minutes! Should be less than 60.\n",
      "Ratio: 67:14\n",
      "\n",
      "Input: (19, 20)\n",
      "Time: 7:20 PM\n",
      "Ratio: 20:19\n",
      "\n",
      "Input: (2, 15)\n",
      "Time: 2:15 AM\n",
      "Ratio: 15:2\n",
      "\n",
      "Input: (0, 10)\n",
      "Time: 12:10 AM\n",
      "Ratio: Cannot divide by zero!\n",
      "\n"
     ]
    }
   ],
   "source": [
    "import math\n",
    "\n",
    "class Time:\n",
    "    def __init__(self, hours, minutes):\n",
    "        self.hours = hours\n",
    "        self.minutes = minutes\n",
    "\n",
    "    def DisplayTime(self):\n",
    "        if self.hours > 23:\n",
    "            return \"Invalid hours! Should be less than 24.\"\n",
    "        if self.minutes > 59:\n",
    "            return \"Invalid minutes! Should be less than 60.\"\n",
    "        if self.hours < 12:\n",
    "            period = \"AM\"\n",
    "        else:\n",
    "            period = \"PM\"\n",
    "\n",
    "        display_hour = self.hours % 12\n",
    "        if display_hour == 0:\n",
    "            display_hour = 12  # Handle 12 AM/PM edge case\n",
    "        return f\"{display_hour}:{self.minutes:02d} {period}\"\n",
    "\n",
    "    def DisplayRatio(self):\n",
    "        try:\n",
    "            if self.hours == 0:\n",
    "                raise ZeroDivisionError  \n",
    "            gcd = math.gcd(self.minutes, self.hours)\n",
    "            ratio_minutes = self.minutes // gcd\n",
    "            ratio_hours = self.hours // gcd\n",
    "            if ratio_hours == 1:\n",
    "                return f\"{ratio_minutes}\"\n",
    "            else:\n",
    "                return f\"{ratio_minutes}:{ratio_hours}\"\n",
    "\n",
    "        except ZeroDivisionError:\n",
    "            return \"Cannot divide by zero!\"\n",
    "\n",
    "t1 = Time(23, 45)\n",
    "t2 = Time(34, 50)\n",
    "t3 = Time(12, 34)\n",
    "t4 = Time(14, 67)\n",
    "t5 = Time(19, 20)\n",
    "t6 = Time(2, 15)\n",
    "t7 = Time(0, 10)\n",
    "time_objects = [t1, t2, t3, t4, t5, t6, t7]\n",
    "print(\"Time and Ratio Outputs:\")\n",
    "for t in time_objects:\n",
    "    print(f\"Input: ({t.hours}, {t.minutes})\")\n",
    "    print(f\"Time: {t.DisplayTime()}\")\n",
    "    print(f\"Ratio: {t.DisplayRatio()}\\n\")\n"
   ]
  },
  {
   "cell_type": "markdown",
   "metadata": {
    "id": "mgcu1_SAjAqF"
   },
   "source": [
    "## <u>Problem 4: Employee Management System with Exception Handling</u>\n",
    "\n",
    "**Scenario:**\n",
    "\n",
    "A company manages employees, where each employee has a name, an employee ID, and a salary. Employees can receive promotions, which increase their salary. However, if an invalid salary increment is given (such as a negative value), the system should raise an exception.\n",
    "\n",
    "**Task:**\n",
    "Create a Employee class with the following attributes and methods:\n",
    "\n",
    "    Attributes:\n",
    "    - name (str), employee_id (str), and salary (float).\n",
    "    Methods:\n",
    "    - promote(increment): Increases the salary by the given amount. If the increment is negative, raise an InvalidSalaryIncrementException.\n",
    "    - display_info(): Prints employee details.\n",
    "\n",
    "Define a custom exception *InvalidSalaryIncrementException* that is raised when an invalid salary increment is provided.\n",
    "\n",
    "**Steps to Solve:**\n",
    "- Create an `Employee` class with the required attributes.\n",
    "- Define a custom exception `InvalidSalaryIncrementException`.\n",
    "- Implement the `promote(increment)` method that validates the increment before applying it.\n",
    "- Implement `display_info()` to show employee details.\n",
    "- Write a test case where a negative salary increment is attempted, and handle the exception gracefully.\n"
   ]
  },
  {
   "cell_type": "markdown",
   "metadata": {},
   "source": [
    "### **Test Cases for Employee Management System with Exception Handling**  \n",
    "\n",
    "#### **Test Case 1: Valid Salary Increment**  \n",
    "**Input:**  \n",
    "```python\n",
    "emp = Employee(\"Alice Johnson\", \"EMP1001\", 50000)\n",
    "emp.promote(5000)\n",
    "emp.display_info()\n",
    "```\n",
    "**Expected Output:**  \n",
    "```\n",
    "Alice Johnson has been promoted! New salary: $55000.00\n",
    "Employee ID: EMP1001 | Name: Alice Johnson | Salary: $55000.00\n",
    "```\n",
    "\n",
    "---\n",
    "\n",
    "#### **Test Case 2: Invalid Salary Increment (Negative Value)**  \n",
    "**Input:**  \n",
    "```python\n",
    "emp = Employee(\"Bob Smith\", \"EMP1002\", 60000)\n",
    "try:\n",
    "    emp.promote(-3000)\n",
    "except InvalidSalaryIncrementException as e:\n",
    "    print(\"Error:\", e)\n",
    "emp.display_info()\n",
    "```\n",
    "**Expected Output:**  \n",
    "```\n",
    "Error: Invalid increment: $-3000.00. It must be positive.\n",
    "Employee ID: EMP1002 | Name: Bob Smith | Salary: $60000.00\n",
    "```\n",
    "\n",
    "---\n",
    "\n",
    "#### **Test Case 3: Multiple Promotions**  \n",
    "**Input:**  \n",
    "```python\n",
    "emp = Employee(\"Charlie Brown\", \"EMP1003\", 45000)\n",
    "emp.promote(4000)\n",
    "emp.promote(6000)\n",
    "emp.display_info()\n",
    "```\n",
    "**Expected Output:**  \n",
    "```\n",
    "Charlie Brown has been promoted! New salary: $49000.00\n",
    "Charlie Brown has been promoted! New salary: $55000.00\n",
    "Employee ID: EMP1003 | Name: Charlie Brown | Salary: $55000.00\n",
    "```\n",
    "\n",
    "---\n",
    "\n",
    "#### **Test Case 4: Zero Salary Increment**  \n",
    "**Input:**  \n",
    "```python\n",
    "emp = Employee(\"David Miller\", \"EMP1004\", 70000)\n",
    "try:\n",
    "    emp.promote(0)\n",
    "except InvalidSalaryIncrementException as e:\n",
    "    print(\"Error:\", e)\n",
    "emp.display_info()\n",
    "```\n",
    "**Expected Output:**  \n",
    "```\n",
    "Error: Invalid increment: $0.00. It must be positive.\n",
    "Employee ID: EMP1004 | Name: David Miller | Salary: $70000.00\n",
    "```\n",
    "\n",
    "---\n",
    "\n",
    "### **Summary of Test Cases**\n",
    "| **Test Case** | **Input** | **Expected Output** |\n",
    "|--------------|----------|--------------------|\n",
    "| **Valid Salary Increment** | `promote(5000)` | Salary increases successfully |\n",
    "| **Invalid Salary Increment (Negative)** | `promote(-3000)` | Exception is raised |\n",
    "| **Multiple Promotions** | `promote(4000)`, `promote(6000)` | Salary updates twice correctly |\n",
    "| **Zero Salary Increment** | `promote(0)` | Exception is raised |\n",
    "\n"
   ]
  },
  {
   "cell_type": "code",
   "execution_count": 3,
   "metadata": {},
   "outputs": [
    {
     "name": "stdout",
     "output_type": "stream",
     "text": [
      "Salary increased by 5000. New Salary: 55000.00\n",
      "Employee ID: EMP1001\n",
      "Name: Alice Johnson\n",
      "Salary: 55000.00\n",
      "Exception: Invalid increment: Cannot be negative.\n",
      "Employee ID: EMP1002\n",
      "Name: Bob Smith\n",
      "Salary: 60000.00\n",
      "Salary increased by 4000. New Salary: 49000.00\n",
      "Salary increased by 6000. New Salary: 55000.00\n",
      "Employee ID: EMP1003\n",
      "Name: Charlie Brown\n",
      "Salary: 55000.00\n",
      "Salary increased by 5000. New Salary: 75000.00\n",
      "Employee ID: EMP1004\n",
      "Name: David Miller\n",
      "Salary: 75000.00\n",
      "Exception: Invalid increment: Cannot be negative.\n",
      "Employee ID: Emp133\n",
      "Name: Vineetha\n",
      "Salary: 5000.00\n"
     ]
    }
   ],
   "source": [
    "\n",
    "class InvalidSalaryIncrementException(Exception):\n",
    "    pass\n",
    "\n",
    "class Employee:\n",
    "    def __init__(self, name, employee_id, salary):\n",
    "        self.name = name\n",
    "        self.employee_id = employee_id\n",
    "        self.salary = salary\n",
    "\n",
    "    def promote(self, increment):\n",
    "        try:\n",
    "            if increment <= 0:\n",
    "                raise InvalidSalaryIncrementException(\"Invalid increment: Cannot be negative.\")\n",
    "            self.salary += increment\n",
    "            print(f\"Salary increased by {increment}. New Salary: {self.salary:.2f}\")\n",
    "        except InvalidSalaryIncrementException as e:\n",
    "            print(f\"Exception: {e}\")\n",
    "\n",
    "    def display_info(self):\n",
    "        print(f\"Employee ID: {self.employee_id}\")\n",
    "        print(f\"Name: {self.name}\")\n",
    "        print(f\"Salary: {self.salary:.2f}\")\n",
    "\n",
    "emp1 = Employee(\"Alice Johnson\", \"EMP1001\", 50000)\n",
    "emp1.promote(5000)\n",
    "emp1.display_info()\n",
    "\n",
    "emp2 = Employee(\"Bob Smith\", \"EMP1002\", 60000)\n",
    "emp2.promote(-3000)\n",
    "emp2.display_info()\n",
    "\n",
    "emp3 = Employee(\"Charlie Brown\", \"EMP1003\", 45000)\n",
    "emp3.promote(4000)\n",
    "emp3.promote(6000)\n",
    "emp3.display_info()\n",
    "\n",
    "emp4 = Employee(\"David Miller\", \"EMP1004\", 70000)\n",
    "emp4.promote(5000)\n",
    "emp4.display_info()\n",
    "\n",
    "emp5=Employee(\"Vineetha\",\"Emp133\",5000)\n",
    "emp5.promote(0)\n",
    "emp5.display_info()"
   ]
  }
 ],
 "metadata": {
  "colab": {
   "provenance": []
  },
  "kernelspec": {
   "display_name": "Python 3",
   "language": "python",
   "name": "python3"
  },
  "language_info": {
   "codemirror_mode": {
    "name": "ipython",
    "version": 3
   },
   "file_extension": ".py",
   "mimetype": "text/x-python",
   "name": "python",
   "nbconvert_exporter": "python",
   "pygments_lexer": "ipython3",
   "version": "3.13.1"
  }
 },
 "nbformat": 4,
 "nbformat_minor": 1
}
